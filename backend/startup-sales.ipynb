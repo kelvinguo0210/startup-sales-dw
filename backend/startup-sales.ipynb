{
 "cells": [
  {
   "cell_type": "code",
   "execution_count": null,
   "id": "3ae2ca8e",
   "metadata": {},
   "outputs": [],
   "source": [
    "# main\n",
    "import pandas as pd\n",
    "import matplotlib.pyplot as plt\n",
    "\n",
    "filename = './startup+account+analysis+1028.xlsx'\n",
    "df = pd.read_excel(filename, sheet_name='1028', header=[1])\n",
    "\n",
    "df.shape\n",
    "#df.info\n"
   ]
  },
  {
   "cell_type": "code",
   "execution_count": null,
   "id": "28a53543",
   "metadata": {},
   "outputs": [],
   "source": [
    "# remove charge\n",
    "df.drop(df.columns[len(df.columns)-1], axis=1, inplace=True)\n",
    "df.drop(df.columns[len(df.columns)-1], axis=1, inplace=True)"
   ]
  },
  {
   "cell_type": "code",
   "execution_count": null,
   "id": "5f5f6d27",
   "metadata": {},
   "outputs": [],
   "source": [
    "\"\"\"\n",
    "cols = []\n",
    "cols_raw = df.columns.values.tolist()\n",
    "for col in cols_raw:\n",
    "    #print (col)\n",
    "    if str(col).startswith('202'):\n",
    "        colName = '-'.join( str(col).split('-')[0:2] )\n",
    "        cols.append(str(colName))\n",
    "    else:\n",
    "        cols.append(col)\n",
    "\n",
    "df.columns = cols\n",
    "\n",
    "\"\"\"\n"
   ]
  },
  {
   "cell_type": "code",
   "execution_count": null,
   "id": "293acafa",
   "metadata": {},
   "outputs": [],
   "source": [
    "# cols to rows\n",
    "cols = df.columns\n",
    "dfMelt = pd.melt(df, id_vars=cols[0:7], value_vars=cols[8:])\n",
    "dfMelt.shape"
   ]
  },
  {
   "cell_type": "code",
   "execution_count": null,
   "id": "7c3d004e",
   "metadata": {},
   "outputs": [],
   "source": [
    "#calc anomal values\n",
    "\n",
    "left = pd.DataFrame(dfMelt.groupby('Master Account Id').median() - pd.DataFrame(dfMelt.groupby('Master Account Id').std()))\n",
    "right = pd.DataFrame(dfMelt.groupby('Master Account Id').median() + pd.DataFrame(dfMelt.groupby('Master Account Id').std()))\n",
    "left.columns = ['left']\n",
    "right.columns = ['right']\n",
    "dfMelt = dfMelt.merge(left, left_on='Master Account Id', right_index=True)\n",
    "dfMelt = dfMelt.merge(right, left_on='Master Account Id', right_index=True)\n",
    "dfMelt_down = dfMelt[dfMelt['value'] < dfMelt['left'] ]\n",
    "dfMelt_up = dfMelt[dfMelt['value'] > dfMelt['right']]\n",
    "#dfMelt = dfMelt.drop(['left', 'right'], axis=1)\n",
    "#dfMelt"
   ]
  },
  {
   "cell_type": "code",
   "execution_count": null,
   "id": "75dd7718",
   "metadata": {},
   "outputs": [],
   "source": [
    "dfMelt_down.to_excel('/home/ec2-user/SageMaker/kguo/down.xlsx')\n",
    "dfMelt_down"
   ]
  },
  {
   "cell_type": "code",
   "execution_count": null,
   "id": "5b8c2cb7",
   "metadata": {},
   "outputs": [],
   "source": [
    "#change column\n",
    "colsNew=['masterAccountId', 'masterAccountName', 'masterAccountOwner', 'phase', 'territory', 'at1', 'at2', 'variable', 'value', 'left', 'right']\n",
    "dfMelt_up.columns=colsNew\n",
    "dfMelt_down.columns=colsNew"
   ]
  },
  {
   "cell_type": "code",
   "execution_count": null,
   "id": "e7ab97b2",
   "metadata": {},
   "outputs": [],
   "source": [
    "dfMelt_up.to_excel('/home/ec2-user/SageMaker/kguo/up.xlsx')\n",
    "dfMelt_down.to_excel('/home/ec2-user/SageMaker/kguo/down.xlsx')"
   ]
  },
  {
   "cell_type": "code",
   "execution_count": null,
   "id": "85895348",
   "metadata": {},
   "outputs": [],
   "source": [
    "## pre-deploy\n",
    "dfMelt_up.to_json('/home/ec2-user/SageMaker/kguo/container/up.json', 'records')\n",
    "dfMelt_down.to_json('/home/ec2-user/SageMaker/kguo/container/down.json', 'records')"
   ]
  },
  {
   "cell_type": "code",
   "execution_count": null,
   "id": "6f290ee5",
   "metadata": {},
   "outputs": [],
   "source": [
    "#deploy\n",
    "!container/buildAndPushECR.sh"
   ]
  },
  {
   "cell_type": "code",
   "execution_count": 52,
   "id": "7f6fa25e",
   "metadata": {},
   "outputs": [
    {
     "ename": "AttributeError",
     "evalue": "'NoneType' object has no attribute 'get'",
     "output_type": "error",
     "traceback": [
      "\u001b[0;31m---------------------------------------------------------------------------\u001b[0m",
      "\u001b[0;31mAttributeError\u001b[0m                            Traceback (most recent call last)",
      "\u001b[0;32m/tmp/ipykernel_32187/604930108.py\u001b[0m in \u001b[0;36m<cell line: 54>\u001b[0;34m()\u001b[0m\n\u001b[1;32m     52\u001b[0m \u001b[0mpayload\u001b[0m\u001b[0;34m.\u001b[0m\u001b[0mget\u001b[0m\u001b[0;34m(\u001b[0m\u001b[0;34m'accountId'\u001b[0m\u001b[0;34m)\u001b[0m\u001b[0;34m\u001b[0m\u001b[0;34m\u001b[0m\u001b[0m\n\u001b[1;32m     53\u001b[0m \u001b[0;34m\u001b[0m\u001b[0m\n\u001b[0;32m---> 54\u001b[0;31m \u001b[0maddFollowUp\u001b[0m\u001b[0;34m(\u001b[0m\u001b[0mpayload\u001b[0m\u001b[0;34m=\u001b[0m\u001b[0mpayload\u001b[0m\u001b[0;34m)\u001b[0m\u001b[0;34m\u001b[0m\u001b[0;34m\u001b[0m\u001b[0m\n\u001b[0m",
      "\u001b[0;32m/tmp/ipykernel_32187/604930108.py\u001b[0m in \u001b[0;36maddFollowUp\u001b[0;34m(payload)\u001b[0m\n\u001b[1;32m      7\u001b[0m         }\n\u001b[1;32m      8\u001b[0m \u001b[0;34m\u001b[0m\u001b[0m\n\u001b[0;32m----> 9\u001b[0;31m     \u001b[0mpayload\u001b[0m\u001b[0;34m.\u001b[0m\u001b[0mget\u001b[0m\u001b[0;34m(\u001b[0m\u001b[0;34m'r'\u001b[0m\u001b[0;34m)\u001b[0m\u001b[0;34m.\u001b[0m\u001b[0mget\u001b[0m\u001b[0;34m(\u001b[0m\u001b[0;34m'a'\u001b[0m\u001b[0;34m)\u001b[0m\u001b[0;34m\u001b[0m\u001b[0;34m\u001b[0m\u001b[0m\n\u001b[0m\u001b[1;32m     10\u001b[0m \u001b[0;34m\u001b[0m\u001b[0m\n\u001b[1;32m     11\u001b[0m     \u001b[0maccountId\u001b[0m \u001b[0;34m=\u001b[0m \u001b[0mpayload\u001b[0m\u001b[0;34m.\u001b[0m\u001b[0mget\u001b[0m\u001b[0;34m(\u001b[0m\u001b[0;34m'r'\u001b[0m\u001b[0;34m)\u001b[0m\u001b[0;34m.\u001b[0m\u001b[0mget\u001b[0m\u001b[0;34m(\u001b[0m\u001b[0;34m'accountId'\u001b[0m\u001b[0;34m)\u001b[0m\u001b[0;34m\u001b[0m\u001b[0;34m\u001b[0m\u001b[0m\n",
      "\u001b[0;31mAttributeError\u001b[0m: 'NoneType' object has no attribute 'get'"
     ]
    }
   ],
   "source": [
    "def addFollowUp(payload=None):\n",
    "    headers = {\n",
    "            \"Content-Type\": \"application/json\",\n",
    "            \"Access-Control-Allow-Headers\": \"Content-Type\",\n",
    "            \"Access-Control-Allow-Origin\": \"*\",\n",
    "            \"Access-Control-Allow-Methods\": \"OPTIONS,POST,GET\"\n",
    "        }\n",
    "    \n",
    "    payload.get('r').get('a')\n",
    "    \n",
    "    accountId = payload.get('r').get('accountId')\n",
    "    accountName = payload.get('r').get('accountName')\n",
    "    accountOwner = payload.get('r').get('accountOwner')\n",
    "    month = payload.get('r').get('variable')\n",
    "    rev = payload.get('r').get('value')\n",
    "    abnormalType = payload.get('abnormalType')\n",
    "    priority = payload.get('rgValue')\n",
    "    followup = payload.get('textValue')\n",
    "    \n",
    "    ddb = boto3.resource('dynamodb')\n",
    "    followups = followups(ddb)\n",
    "    followups_exist = followups.exists(table_name)\n",
    "    if not followups_exist:\n",
    "        followups.create_table(table_name)\n",
    "        \n",
    "    LOGGER.info('here we go @1... ')\n",
    "    \n",
    "    fu = { 'accountId': accountId,\n",
    "           'accountName': accountName,\n",
    "           'accountOwner': accountOwner,\n",
    "           'month': month,\n",
    "           'rev': rev,\n",
    "           'abnormalType': abnormalType,\n",
    "           'priority': priority,\n",
    "           'createTime': now() }\n",
    "    \n",
    "    LOGGER.info('here we go @2... ')\n",
    "    \n",
    "    followups.add_followup(fu)\n",
    "    \n",
    "    LOGGER.info('here we go @3... ')\n",
    "            \n",
    "    return {\n",
    "        \"statusCode\": 200,\n",
    "        \"headers\":headers,\n",
    "        \"body\": json.dumps( {'code': 200, 'success': 'true', 'Data': [] }  )          \n",
    "    }\n",
    "\n",
    "\n",
    "str = '{\"accountId\":\"abc\"}'\n",
    "payload = json.loads(str)\n",
    "payload.get('accountId')\n",
    "\n",
    "addFollowUp(payload=payload)\n"
   ]
  },
  {
   "cell_type": "code",
   "execution_count": 59,
   "id": "3d55b135",
   "metadata": {},
   "outputs": [
    {
     "data": {
      "text/plain": [
       "{'createTime': 1671179830}"
      ]
     },
     "execution_count": 59,
     "metadata": {},
     "output_type": "execute_result"
    }
   ],
   "source": [
    "from datetime import datetime\n",
    "\n",
    "fu = {  'createTime': round(datetime.now().timestamp()) }\n",
    "fu"
   ]
  },
  {
   "cell_type": "code",
   "execution_count": null,
   "id": "a9907084",
   "metadata": {},
   "outputs": [],
   "source": []
  }
 ],
 "metadata": {
  "kernelspec": {
   "display_name": "conda_pytorch_p38",
   "language": "python",
   "name": "conda_pytorch_p38"
  },
  "language_info": {
   "codemirror_mode": {
    "name": "ipython",
    "version": 3
   },
   "file_extension": ".py",
   "mimetype": "text/x-python",
   "name": "python",
   "nbconvert_exporter": "python",
   "pygments_lexer": "ipython3",
   "version": "3.8.12"
  },
  "toc-autonumbering": false
 },
 "nbformat": 4,
 "nbformat_minor": 5
}
